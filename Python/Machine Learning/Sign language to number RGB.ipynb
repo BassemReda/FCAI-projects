{
  "nbformat": 4,
  "nbformat_minor": 0,
  "metadata": {
    "colab": {
      "name": "ML_Project_RGB_V4.ipynb",
      "provenance": [],
      "collapsed_sections": []
    },
    "kernelspec": {
      "name": "python3",
      "display_name": "Python 3"
    }
  },
  "cells": [
    {
      "cell_type": "code",
      "metadata": {
        "id": "UkCMomUvmR4f",
        "colab_type": "code",
        "colab": {}
      },
      "source": [
        "# A Machine Learning Project that takes an RGB image of a number in sign language\n",
        "# and outputs its corresponding value using Neural Networks"
      ],
      "execution_count": 0,
      "outputs": []
    },
    {
      "cell_type": "code",
      "metadata": {
        "id": "PQaFlQcpefoS",
        "colab_type": "code",
        "outputId": "dcfa091e-6ced-4d84-cdb1-9014aa5eaff5",
        "colab": {
          "base_uri": "https://localhost:8080/",
          "height": 34
        }
      },
      "source": [
        "! git clone https://github.com/ardamavi/Sign-Language-Digits-Dataset"
      ],
      "execution_count": 0,
      "outputs": [
        {
          "output_type": "stream",
          "text": [
            "fatal: destination path 'Sign-Language-Digits-Dataset' already exists and is not an empty directory.\n"
          ],
          "name": "stdout"
        }
      ]
    },
    {
      "cell_type": "code",
      "metadata": {
        "id": "Yw--RToxevZV",
        "colab_type": "code",
        "outputId": "2f57cba8-ac07-4d97-de47-ce81d21acf4d",
        "colab": {
          "base_uri": "https://localhost:8080/",
          "height": 63
        }
      },
      "source": [
        "from sklearn import tree\n",
        "from sklearn import preprocessing\n",
        "from sklearn.model_selection import train_test_split\n",
        "import matplotlib.pyplot as plt\n",
        "import matplotlib.image as mpimg\n",
        "import os\n",
        "import numpy as np\n",
        "from os import listdir\n",
        "from scipy.misc import *\n",
        "import imageio\n",
        "from skimage import transform,io\n",
        "import tensorflow as tf\n",
        "from tensorflow import keras\n",
        "from numpy import array\n",
        "from sklearn.model_selection import KFold\n",
        "\n",
        "# Settings:\n",
        "grayscale_images = True\n",
        "num_class = 10\n",
        "test_size = 0.2\n"
      ],
      "execution_count": 0,
      "outputs": [
        {
          "output_type": "display_data",
          "data": {
            "text/html": [
              "<p style=\"color: red;\">\n",
              "The default version of TensorFlow in Colab will soon switch to TensorFlow 2.x.<br>\n",
              "We recommend you <a href=\"https://www.tensorflow.org/guide/migrate\" target=\"_blank\">upgrade</a> now \n",
              "or ensure your notebook will continue to use TensorFlow 1.x via the <code>%tensorflow_version 1.x</code> magic:\n",
              "<a href=\"https://colab.research.google.com/notebooks/tensorflow_version.ipynb\" target=\"_blank\">more info</a>.</p>\n"
            ],
            "text/plain": [
              "<IPython.core.display.HTML object>"
            ]
          },
          "metadata": {
            "tags": []
          }
        }
      ]
    },
    {
      "cell_type": "code",
      "metadata": {
        "id": "OuOIYJ5oghmq",
        "colab_type": "code",
        "colab": {}
      },
      "source": [
        "def get_img(data_path):\n",
        "    img = io.imread(data_path)\n",
        "    return img\n",
        "\n",
        "def print_img(img):\n",
        "    imgplot = plt.imshow(img)\n",
        "    plt.show()"
      ],
      "execution_count": 0,
      "outputs": []
    },
    {
      "cell_type": "code",
      "metadata": {
        "id": "2MIZPRcZgl5x",
        "colab_type": "code",
        "colab": {}
      },
      "source": [
        "def get_dataset(dataset_path='./Dataset/'):\n",
        "    # Getting all data from data path:\n",
        "    try:\n",
        "        print(\"in try\")\n",
        "        X = np.load('npy_dataset/X.npy')\n",
        "        Y = np.load('npy_dataset/Y.npy')\n",
        "    except:\n",
        "        print(\"inside\")\n",
        "        labels = listdir(dataset_path) # Getting labels\n",
        "        X = []\n",
        "        Y = []\n",
        "        channel_sum = np.zeros(3)\n",
        "        pixel_num = 0\n",
        "        for i, label in enumerate(labels):\n",
        "            datas_path = dataset_path+'/'+label\n",
        "            for data in listdir(datas_path):\n",
        "                img = get_img(datas_path+'/'+data)\n",
        "                \n",
        "                if(img.shape[0] > 100):\n",
        "                  X.append(X[-1])\n",
        "                  Y.append(Y[-1])\n",
        "                else:\n",
        "                  X.append(img)\n",
        "                  Y.append(int(label))\n",
        "\n",
        "                pixel_num += 100*100\n",
        "                channel_sum += np.sum(img, axis=(0, 1))\n",
        "        # Create dateset:\n",
        "        print_img(X[200])\n",
        "        print(Y[1])\n",
        "\n",
        "        # calculate average\n",
        "        \n",
        "        rgb_mean = channel_sum / pixel_num\n",
        "        \n",
        "        for i in range(len(X)):\n",
        "          X[i] = 1-np.array(X[i]).astype('float64')\n",
        "          X[i] -= rgb_mean\n",
        "\n",
        "        for i in range(len(X)):\n",
        "            X[i] = X[i]/255.\n",
        "        Y = np.array(Y).astype('float64')\n",
        "\n",
        "        # print(X)\n",
        "        if not os.path.exists('npy_dataset/'):\n",
        "            os.makedirs('npy_dataset/')\n",
        "        np.save('npy_dataset/X.npy', X)\n",
        "        np.save('npy_dataset/Y.npy', Y)\n",
        "    X_train, X_test, Y_train, Y_test = train_test_split(X, Y, test_size=test_size, random_state=42)\n",
        "    X_train, X_val, Y_train, Y_val = train_test_split(X_train, Y_train, test_size=0.25, random_state=1)\n",
        "    return X_train, X_val, X_test, Y_train, Y_val, Y_test"
      ],
      "execution_count": 0,
      "outputs": []
    },
    {
      "cell_type": "code",
      "metadata": {
        "id": "OF9U25m5mviP",
        "colab_type": "code",
        "outputId": "fab272ad-2e97-4ff8-fa4c-55664a789118",
        "colab": {
          "base_uri": "https://localhost:8080/",
          "height": 34
        }
      },
      "source": [
        "train_x, val_x, test_x, train_y, val_y, test_y = get_dataset('Sign-Language-Digits-Dataset/Dataset')"
      ],
      "execution_count": 0,
      "outputs": [
        {
          "output_type": "stream",
          "text": [
            "in try\n"
          ],
          "name": "stdout"
        }
      ]
    },
    {
      "cell_type": "code",
      "metadata": {
        "id": "IrADIDRd-z33",
        "colab_type": "code",
        "outputId": "8feed634-0dec-4431-b325-87b57ab44c63",
        "colab": {
          "base_uri": "https://localhost:8080/",
          "height": 51
        }
      },
      "source": [
        "train_x = np.array(train_x)\n",
        "print(train_x.shape)\n",
        "train_x = np.stack(train_x)\n",
        "print(train_x.shape)"
      ],
      "execution_count": 0,
      "outputs": [
        {
          "output_type": "stream",
          "text": [
            "(1236, 100, 100, 3)\n",
            "(1236, 100, 100, 3)\n"
          ],
          "name": "stdout"
        }
      ]
    },
    {
      "cell_type": "code",
      "metadata": {
        "id": "1O7Mf4tXt4KV",
        "colab_type": "code",
        "outputId": "00ae6e4c-bb15-4347-8e7c-ca3a4c27621b",
        "colab": {
          "base_uri": "https://localhost:8080/",
          "height": 68
        }
      },
      "source": [
        "print(train_x.shape)\n",
        "print(train_y.shape)\n",
        "print(np.asarray(train_y).shape)"
      ],
      "execution_count": 0,
      "outputs": [
        {
          "output_type": "stream",
          "text": [
            "(1236, 100, 100, 3)\n",
            "(1236,)\n",
            "(1236,)\n"
          ],
          "name": "stdout"
        }
      ]
    },
    {
      "cell_type": "code",
      "metadata": {
        "id": "6S474vwDLdkk",
        "colab_type": "code",
        "outputId": "1223b44d-a939-447d-a548-13607db1d0da",
        "colab": {
          "base_uri": "https://localhost:8080/",
          "height": 34
        }
      },
      "source": [
        "test_x = np.array(test_x)\n",
        "test_x = np.stack(test_x)\n",
        "test_x.shape"
      ],
      "execution_count": 0,
      "outputs": [
        {
          "output_type": "execute_result",
          "data": {
            "text/plain": [
              "(413, 100, 100, 3)"
            ]
          },
          "metadata": {
            "tags": []
          },
          "execution_count": 8
        }
      ]
    },
    {
      "cell_type": "code",
      "metadata": {
        "id": "-_bBUI52InrF",
        "colab_type": "code",
        "colab": {}
      },
      "source": [
        "def train_test_model(layers, train_x, val_x, train_y, val_y):\n",
        "  cnn = keras.Sequential()\n",
        "  # using conv layer on input\n",
        "  cnn.add(keras.layers.Conv2D(filters=32, \n",
        "                kernel_size=(2,2), \n",
        "                strides=(1,1),\n",
        "                padding='same',\n",
        "                input_shape=(100,100,3),\n",
        "                data_format='channels_last'))\n",
        "  cnn.add(keras.layers.Activation('relu'))\n",
        "\n",
        "  cnn.add(keras.layers.MaxPooling2D(pool_size=(2,2),\n",
        "                      strides=2))\n",
        "\n",
        "  # number of conv and pooling layers determined by function parameter\n",
        "  for i in range(int(layers)):\n",
        "    cnn.add(keras.layers.Conv2D(filters=64,\n",
        "                  kernel_size=(2,2),\n",
        "                  strides=(1,1),\n",
        "                  padding='valid'))\n",
        "    cnn.add(keras.layers.Activation('relu'))\n",
        "\n",
        "    cnn.add(keras.layers.MaxPooling2D(pool_size=(2,2), strides=2))\n",
        "\n",
        "  cnn.add(keras.layers.Flatten())\n",
        "  cnn.add(keras.layers.Dense(64))\n",
        "  cnn.add(keras.layers.Activation('relu'))\n",
        "  cnn.add(keras.layers.Dropout(0.25))\n",
        "\n",
        "  # using softmax in output layer for classification\n",
        "  cnn.add(keras.layers.Dense(10, activation='softmax'))\n",
        "\n",
        "  cnn.compile(loss='sparse_categorical_crossentropy', optimizer='rmsprop', metrics=['accuracy'])\n",
        "\n",
        "  cnn.fit(train_x, train_y, epochs=1)\n",
        "  \n",
        "  val_test_loss, val_test_acc = cnn.evaluate(val_x,  val_y, verbose=2)\n",
        "  print('\\nvalidation accuracy for model (', layers, ' layers', '):', val_test_acc * 100.0)\n",
        "  print('==================================================================================')\n",
        "\n",
        "  test_loss, test_acc = cnn.evaluate(test_x,  test_y, verbose=2)\n",
        "  print('\\nTest accuracy for model (', layers, ' layers', '):', test_acc * 100.0)\n",
        "  print('==================================================================================')\n",
        "\n",
        "  return test_acc"
      ],
      "execution_count": 0,
      "outputs": []
    },
    {
      "cell_type": "code",
      "metadata": {
        "id": "xRrjiWBtrEhD",
        "colab_type": "code",
        "outputId": "6ad64f7a-d4f6-4140-b132-d77a3820a3bf",
        "colab": {
          "base_uri": "https://localhost:8080/",
          "height": 1000
        }
      },
      "source": [
        "avg1 = 0\n",
        "avg2 = 0\n",
        "avg3 = 0\n",
        "avg4 = 0\n",
        "kfold = KFold(7, True, 1)\n",
        "co = 1\n",
        "for train, test in kfold.split(train_x):\n",
        "  print(\"Fold number: \", co)\n",
        "  co += 1\n",
        "  avg1 += train_test_model(1, train_x[train], train_x[test], train_y[train], train_y[test])"
      ],
      "execution_count": 0,
      "outputs": [
        {
          "output_type": "stream",
          "text": [
            "Fold number:  1\n",
            "WARNING:tensorflow:From /usr/local/lib/python3.6/dist-packages/tensorflow_core/python/ops/resource_variable_ops.py:1630: calling BaseResourceVariable.__init__ (from tensorflow.python.ops.resource_variable_ops) with constraint is deprecated and will be removed in a future version.\n",
            "Instructions for updating:\n",
            "If using Keras pass *_constraint arguments to layers.\n",
            "Train on 1059 samples\n",
            "1059/1059 [==============================] - 9s 9ms/sample - loss: 3.8864 - acc: 0.0963\n",
            "177/177 - 1s - loss: 2.3032 - acc: 0.1073\n",
            "\n",
            "validation accuracy for model ( 1  layers ): 10.734463483095169\n",
            "==================================================================================\n",
            "413/413 - 1s - loss: 2.3023 - acc: 0.1114\n",
            "\n",
            "Test accuracy for model ( 1  layers ): 11.138014495372772\n",
            "==================================================================================\n",
            "Fold number:  2\n",
            "Train on 1059 samples\n",
            "1059/1059 [==============================] - 9s 9ms/sample - loss: 3.9320 - acc: 0.0925\n",
            "177/177 - 1s - loss: 2.3029 - acc: 0.0960\n",
            "\n",
            "validation accuracy for model ( 1  layers ): 9.604519605636597\n",
            "==================================================================================\n",
            "413/413 - 1s - loss: 2.3032 - acc: 0.0775\n",
            "\n",
            "Test accuracy for model ( 1  layers ): 7.748184353113174\n",
            "==================================================================================\n",
            "Fold number:  3\n",
            "Train on 1059 samples\n",
            "1059/1059 [==============================] - 9s 9ms/sample - loss: 3.3498 - acc: 0.1039\n",
            "177/177 - 1s - loss: 2.3027 - acc: 0.0904\n",
            "\n",
            "validation accuracy for model ( 1  layers ): 9.03954803943634\n",
            "==================================================================================\n",
            "413/413 - 1s - loss: 2.3027 - acc: 0.0775\n",
            "\n",
            "Test accuracy for model ( 1  layers ): 7.748184353113174\n",
            "==================================================================================\n",
            "Fold number:  4\n",
            "Train on 1059 samples\n",
            "1059/1059 [==============================] - 9s 9ms/sample - loss: 3.9712 - acc: 0.1124\n",
            "177/177 - 1s - loss: 2.3028 - acc: 0.1130\n",
            "\n",
            "validation accuracy for model ( 1  layers ): 11.299435049295425\n",
            "==================================================================================\n",
            "413/413 - 1s - loss: 2.3032 - acc: 0.0944\n",
            "\n",
            "Test accuracy for model ( 1  layers ): 9.443099051713943\n",
            "==================================================================================\n",
            "Fold number:  5\n",
            "Train on 1060 samples\n",
            "1060/1060 [==============================] - 9s 9ms/sample - loss: 4.9260 - acc: 0.0887\n",
            "176/176 - 1s - loss: 2.3032 - acc: 0.0966\n",
            "\n",
            "validation accuracy for model ( 1  layers ): 9.659090638160706\n",
            "==================================================================================\n",
            "413/413 - 1s - loss: 2.3023 - acc: 0.0969\n",
            "\n",
            "Test accuracy for model ( 1  layers ): 9.685230255126953\n",
            "==================================================================================\n",
            "Fold number:  6\n",
            "Train on 1060 samples\n",
            "1060/1060 [==============================] - 9s 9ms/sample - loss: 3.5923 - acc: 0.0972\n",
            "176/176 - 1s - loss: 2.3024 - acc: 0.0966\n",
            "\n",
            "validation accuracy for model ( 1  layers ): 9.659090638160706\n",
            "==================================================================================\n",
            "413/413 - 1s - loss: 2.3026 - acc: 0.1114\n",
            "\n",
            "Test accuracy for model ( 1  layers ): 11.138014495372772\n",
            "==================================================================================\n",
            "Fold number:  7\n",
            "Train on 1060 samples\n",
            "1060/1060 [==============================] - 9s 9ms/sample - loss: 3.1094 - acc: 0.0821\n",
            "176/176 - 1s - loss: 2.3031 - acc: 0.0966\n",
            "\n",
            "validation accuracy for model ( 1  layers ): 9.659090638160706\n",
            "==================================================================================\n",
            "413/413 - 1s - loss: 2.3027 - acc: 0.1259\n",
            "\n",
            "Test accuracy for model ( 1  layers ): 12.590798735618591\n",
            "==================================================================================\n"
          ],
          "name": "stdout"
        }
      ]
    },
    {
      "cell_type": "code",
      "metadata": {
        "id": "ManeWKOTX5Vx",
        "colab_type": "code",
        "outputId": "eb2e9fd1-978f-4155-fa5f-0c653ba2464b",
        "colab": {
          "base_uri": "https://localhost:8080/",
          "height": 1000
        }
      },
      "source": [
        "for train, test in kfold.split(train_x):\n",
        "  print(\"Fold number: \", co)\n",
        "  co += 1\n",
        "  avg2 += train_test_model(2, train_x[train], train_x[test], train_y[train], train_y[test])"
      ],
      "execution_count": 0,
      "outputs": [
        {
          "output_type": "stream",
          "text": [
            "Fold number:  8\n",
            "Train on 1059 samples\n",
            "1059/1059 [==============================] - 10s 10ms/sample - loss: 2.4692 - acc: 0.0963\n",
            "177/177 - 1s - loss: 2.3128 - acc: 0.1073\n",
            "\n",
            "validation accuracy for model ( 2  layers ): 10.734463483095169\n",
            "==================================================================================\n",
            "413/413 - 1s - loss: 2.3088 - acc: 0.1114\n",
            "\n",
            "Test accuracy for model ( 2  layers ): 11.138014495372772\n",
            "==================================================================================\n",
            "Fold number:  9\n",
            "Train on 1059 samples\n",
            "1059/1059 [==============================] - 10s 10ms/sample - loss: 2.4861 - acc: 0.1237\n",
            "177/177 - 1s - loss: 2.3034 - acc: 0.0960\n",
            "\n",
            "validation accuracy for model ( 2  layers ): 9.604519605636597\n",
            "==================================================================================\n",
            "413/413 - 1s - loss: 2.3158 - acc: 0.0775\n",
            "\n",
            "Test accuracy for model ( 2  layers ): 7.748184353113174\n",
            "==================================================================================\n",
            "Fold number:  10\n",
            "Train on 1059 samples\n",
            "1059/1059 [==============================] - 10s 10ms/sample - loss: 2.3928 - acc: 0.1058\n",
            "177/177 - 1s - loss: 2.2999 - acc: 0.1243\n",
            "\n",
            "validation accuracy for model ( 2  layers ): 12.429378181695938\n",
            "==================================================================================\n",
            "413/413 - 1s - loss: 2.3071 - acc: 0.0944\n",
            "\n",
            "Test accuracy for model ( 2  layers ): 9.443099051713943\n",
            "==================================================================================\n",
            "Fold number:  11\n",
            "Train on 1059 samples\n",
            "1059/1059 [==============================] - 11s 10ms/sample - loss: 2.3940 - acc: 0.1076\n",
            "177/177 - 1s - loss: 2.4196 - acc: 0.0904\n",
            "\n",
            "validation accuracy for model ( 2  layers ): 9.03954803943634\n",
            "==================================================================================\n",
            "413/413 - 1s - loss: 2.3746 - acc: 0.0969\n",
            "\n",
            "Test accuracy for model ( 2  layers ): 9.685230255126953\n",
            "==================================================================================\n",
            "Fold number:  12\n",
            "Train on 1060 samples\n",
            "1060/1060 [==============================] - 11s 10ms/sample - loss: 2.4375 - acc: 0.0887\n",
            "176/176 - 1s - loss: 2.3001 - acc: 0.1136\n",
            "\n",
            "validation accuracy for model ( 2  layers ): 11.363636702299118\n",
            "==================================================================================\n",
            "413/413 - 1s - loss: 2.3708 - acc: 0.0920\n",
            "\n",
            "Test accuracy for model ( 2  layers ): 9.200968593358994\n",
            "==================================================================================\n",
            "Fold number:  13\n",
            "Train on 1060 samples\n",
            "1060/1060 [==============================] - 11s 10ms/sample - loss: 2.5106 - acc: 0.1075\n",
            "176/176 - 1s - loss: 2.3035 - acc: 0.0966\n",
            "\n",
            "validation accuracy for model ( 2  layers ): 9.659090638160706\n",
            "==================================================================================\n",
            "413/413 - 1s - loss: 2.3160 - acc: 0.1114\n",
            "\n",
            "Test accuracy for model ( 2  layers ): 11.138014495372772\n",
            "==================================================================================\n",
            "Fold number:  14\n",
            "Train on 1060 samples\n",
            "1060/1060 [==============================] - 10s 10ms/sample - loss: 2.3543 - acc: 0.1104\n",
            "176/176 - 1s - loss: 2.3012 - acc: 0.1080\n",
            "\n",
            "validation accuracy for model ( 2  layers ): 10.795454680919647\n",
            "==================================================================================\n",
            "413/413 - 1s - loss: 2.3020 - acc: 0.0775\n",
            "\n",
            "Test accuracy for model ( 2  layers ): 7.748184353113174\n",
            "==================================================================================\n"
          ],
          "name": "stdout"
        }
      ]
    },
    {
      "cell_type": "code",
      "metadata": {
        "id": "VZzmmYLZX7G7",
        "colab_type": "code",
        "outputId": "5cd69082-149d-495c-ff29-829b756c39a5",
        "colab": {
          "base_uri": "https://localhost:8080/",
          "height": 1000
        }
      },
      "source": [
        "for train, test in kfold.split(train_x):\n",
        "  print(\"Fold number: \", co)\n",
        "  co += 1\n",
        "  avg3 += train_test_model(3, train_x[train], train_x[test], train_y[train], train_y[test])"
      ],
      "execution_count": 0,
      "outputs": [
        {
          "output_type": "stream",
          "text": [
            "Fold number:  15\n",
            "Train on 1059 samples\n",
            "1059/1059 [==============================] - 11s 10ms/sample - loss: 2.3155 - acc: 0.0982\n",
            "177/177 - 1s - loss: 2.3142 - acc: 0.0904\n",
            "\n",
            "validation accuracy for model ( 3  layers ): 9.03954803943634\n",
            "==================================================================================\n",
            "413/413 - 1s - loss: 2.3050 - acc: 0.1404\n",
            "\n",
            "Test accuracy for model ( 3  layers ): 14.04358297586441\n",
            "==================================================================================\n",
            "Fold number:  16\n",
            "Train on 1059 samples\n",
            "1059/1059 [==============================] - 11s 10ms/sample - loss: 2.3171 - acc: 0.0954\n",
            "177/177 - 1s - loss: 2.3074 - acc: 0.0678\n",
            "\n",
            "validation accuracy for model ( 3  layers ): 6.779661029577255\n",
            "==================================================================================\n",
            "413/413 - 1s - loss: 2.3038 - acc: 0.0775\n",
            "\n",
            "Test accuracy for model ( 3  layers ): 7.748184353113174\n",
            "==================================================================================\n",
            "Fold number:  17\n",
            "Train on 1059 samples\n",
            "1059/1059 [==============================] - 11s 10ms/sample - loss: 2.3562 - acc: 0.0925\n",
            "177/177 - 1s - loss: 2.3019 - acc: 0.1243\n",
            "\n",
            "validation accuracy for model ( 3  layers ): 12.429378181695938\n",
            "==================================================================================\n",
            "413/413 - 1s - loss: 2.3080 - acc: 0.0944\n",
            "\n",
            "Test accuracy for model ( 3  layers ): 9.443099051713943\n",
            "==================================================================================\n",
            "Fold number:  18\n",
            "Train on 1059 samples\n",
            "1059/1059 [==============================] - 11s 10ms/sample - loss: 2.3238 - acc: 0.1020\n",
            "177/177 - 1s - loss: 2.3037 - acc: 0.0904\n",
            "\n",
            "validation accuracy for model ( 3  layers ): 9.03954803943634\n",
            "==================================================================================\n",
            "413/413 - 1s - loss: 2.3073 - acc: 0.0944\n",
            "\n",
            "Test accuracy for model ( 3  layers ): 9.443099051713943\n",
            "==================================================================================\n",
            "Fold number:  19\n",
            "Train on 1060 samples\n",
            "1060/1060 [==============================] - 11s 10ms/sample - loss: 2.3193 - acc: 0.0981\n",
            "176/176 - 1s - loss: 2.2964 - acc: 0.1477\n",
            "\n",
            "validation accuracy for model ( 3  layers ): 14.772726595401764\n",
            "==================================================================================\n",
            "413/413 - 1s - loss: 2.3052 - acc: 0.0775\n",
            "\n",
            "Test accuracy for model ( 3  layers ): 7.748184353113174\n",
            "==================================================================================\n",
            "Fold number:  20\n",
            "Train on 1060 samples\n",
            "1060/1060 [==============================] - 11s 10ms/sample - loss: 2.3259 - acc: 0.0877\n",
            "176/176 - 1s - loss: 2.3014 - acc: 0.1250\n",
            "\n",
            "validation accuracy for model ( 3  layers ): 12.5\n",
            "==================================================================================\n",
            "413/413 - 1s - loss: 2.3051 - acc: 0.0775\n",
            "\n",
            "Test accuracy for model ( 3  layers ): 7.748184353113174\n",
            "==================================================================================\n",
            "Fold number:  21\n",
            "Train on 1060 samples\n",
            "1060/1060 [==============================] - 11s 10ms/sample - loss: 2.3158 - acc: 0.0849\n",
            "176/176 - 1s - loss: 2.3065 - acc: 0.1080\n",
            "\n",
            "validation accuracy for model ( 3  layers ): 10.795454680919647\n",
            "==================================================================================\n",
            "413/413 - 1s - loss: 2.3099 - acc: 0.0775\n",
            "\n",
            "Test accuracy for model ( 3  layers ): 7.748184353113174\n",
            "==================================================================================\n"
          ],
          "name": "stdout"
        }
      ]
    },
    {
      "cell_type": "code",
      "metadata": {
        "id": "xyZwrt69X75i",
        "colab_type": "code",
        "outputId": "85fc0f0f-88d3-4974-9160-b9aa2ff6168c",
        "colab": {
          "base_uri": "https://localhost:8080/",
          "height": 1000
        }
      },
      "source": [
        "for train, test in kfold.split(train_x):\n",
        "  print(\"Fold number: \", co)\n",
        "  co += 1\n",
        "  avg4 += train_test_model(4, train_x[train], train_x[test], train_y[train], train_y[test])"
      ],
      "execution_count": 0,
      "outputs": [
        {
          "output_type": "stream",
          "text": [
            "Fold number:  22\n",
            "Train on 1059 samples\n",
            "1059/1059 [==============================] - 11s 10ms/sample - loss: 2.3095 - acc: 0.0954\n",
            "177/177 - 1s - loss: 2.3186 - acc: 0.0904\n",
            "\n",
            "validation accuracy for model ( 4  layers ): 9.03954803943634\n",
            "==================================================================================\n",
            "413/413 - 1s - loss: 2.3174 - acc: 0.0775\n",
            "\n",
            "Test accuracy for model ( 4  layers ): 7.748184353113174\n",
            "==================================================================================\n",
            "Fold number:  23\n",
            "Train on 1059 samples\n",
            "1059/1059 [==============================] - 11s 10ms/sample - loss: 2.3214 - acc: 0.1086\n",
            "177/177 - 1s - loss: 2.3168 - acc: 0.0960\n",
            "\n",
            "validation accuracy for model ( 4  layers ): 9.604519605636597\n",
            "==================================================================================\n",
            "413/413 - 1s - loss: 2.3094 - acc: 0.0775\n",
            "\n",
            "Test accuracy for model ( 4  layers ): 7.748184353113174\n",
            "==================================================================================\n",
            "Fold number:  24\n",
            "Train on 1059 samples\n",
            "1059/1059 [==============================] - 11s 10ms/sample - loss: 2.3209 - acc: 0.1001\n",
            "177/177 - 1s - loss: 2.3350 - acc: 0.1243\n",
            "\n",
            "validation accuracy for model ( 4  layers ): 12.429378181695938\n",
            "==================================================================================\n",
            "413/413 - 1s - loss: 2.3549 - acc: 0.0944\n",
            "\n",
            "Test accuracy for model ( 4  layers ): 9.443099051713943\n",
            "==================================================================================\n",
            "Fold number:  25\n",
            "Train on 1059 samples\n",
            "1059/1059 [==============================] - 11s 10ms/sample - loss: 2.3065 - acc: 0.1020\n",
            "177/177 - 1s - loss: 2.3068 - acc: 0.0395\n",
            "\n",
            "validation accuracy for model ( 4  layers ): 3.954802080988884\n",
            "==================================================================================\n",
            "413/413 - 1s - loss: 2.3058 - acc: 0.0775\n",
            "\n",
            "Test accuracy for model ( 4  layers ): 7.748184353113174\n",
            "==================================================================================\n",
            "Fold number:  26\n",
            "Train on 1060 samples\n",
            "1060/1060 [==============================] - 11s 10ms/sample - loss: 2.3192 - acc: 0.0868\n",
            "176/176 - 1s - loss: 2.3057 - acc: 0.0966\n",
            "\n",
            "validation accuracy for model ( 4  layers ): 9.659090638160706\n",
            "==================================================================================\n",
            "413/413 - 1s - loss: 2.3020 - acc: 0.1114\n",
            "\n",
            "Test accuracy for model ( 4  layers ): 11.138014495372772\n",
            "==================================================================================\n",
            "Fold number:  27\n",
            "Train on 1060 samples\n",
            "1060/1060 [==============================] - 11s 11ms/sample - loss: 2.3093 - acc: 0.0943\n",
            "176/176 - 1s - loss: 2.3025 - acc: 0.0966\n",
            "\n",
            "validation accuracy for model ( 4  layers ): 9.659090638160706\n",
            "==================================================================================\n",
            "413/413 - 1s - loss: 2.3025 - acc: 0.1114\n",
            "\n",
            "Test accuracy for model ( 4  layers ): 11.138014495372772\n",
            "==================================================================================\n",
            "Fold number:  28\n",
            "Train on 1060 samples\n",
            "1060/1060 [==============================] - 11s 11ms/sample - loss: 2.3173 - acc: 0.0868\n",
            "176/176 - 1s - loss: 2.3130 - acc: 0.0795\n",
            "\n",
            "validation accuracy for model ( 4  layers ): 7.954545319080353\n",
            "==================================================================================\n",
            "413/413 - 1s - loss: 2.3054 - acc: 0.1114\n",
            "\n",
            "Test accuracy for model ( 4  layers ): 11.138014495372772\n",
            "==================================================================================\n"
          ],
          "name": "stdout"
        }
      ]
    },
    {
      "cell_type": "code",
      "metadata": {
        "id": "cW_TlpFBsWwY",
        "colab_type": "code",
        "outputId": "26af17d7-62f3-405a-9001-b236cf38766f",
        "colab": {
          "base_uri": "https://localhost:8080/",
          "height": 85
        }
      },
      "source": [
        "print('model 1 avg test accuracy: ', (avg1 / 7) * 100)\n",
        "print('model 2 avg test accuracy: ', (avg2 / 7) * 100)\n",
        "print('model 3 avg test accuracy: ', (avg3 / 7) * 100)\n",
        "print('model 4 avg test accuracy: ', (avg4 / 7) * 100)"
      ],
      "execution_count": 0,
      "outputs": [
        {
          "output_type": "stream",
          "text": [
            "model 1 avg test accuracy:  9.92736081991877\n",
            "model 2 avg test accuracy:  9.443099371024541\n",
            "model 3 avg test accuracy:  9.13178835596357\n",
            "model 4 avg test accuracy:  9.443099371024541\n"
          ],
          "name": "stdout"
        }
      ]
    },
    {
      "cell_type": "code",
      "metadata": {
        "id": "Raq49ZTAe57K",
        "colab_type": "code",
        "colab": {}
      },
      "source": [
        ""
      ],
      "execution_count": 0,
      "outputs": []
    }
  ]
}