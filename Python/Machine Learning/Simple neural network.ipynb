{
  "nbformat": 4,
  "nbformat_minor": 0,
  "metadata": {
    "colab": {
      "name": "GA_NN_v4.ipynb",
      "provenance": [],
      "collapsed_sections": []
    },
    "kernelspec": {
      "name": "python3",
      "display_name": "Python 3"
    }
  },
  "cells": [
    {
      "cell_type": "code",
      "metadata": {
        "id": "XMcX2X1Km_Kt",
        "colab_type": "code",
        "colab": {}
      },
      "source": [
        "# A simple basic neural network implemented from scratch"
      ],
      "execution_count": 0,
      "outputs": []
    },
    {
      "cell_type": "code",
      "metadata": {
        "id": "a4f3y5X6UKx_",
        "colab_type": "code",
        "colab": {}
      },
      "source": [
        "import numpy as np\n",
        "import pandas as pd\t\n",
        "from sklearn import preprocessing\n",
        "from math import exp\n",
        "from sklearn.metrics import mean_squared_error"
      ],
      "execution_count": 0,
      "outputs": []
    },
    {
      "cell_type": "code",
      "metadata": {
        "id": "hbY0A8QqrgPK",
        "colab_type": "code",
        "outputId": "b032c44a-8aa9-476a-d4a2-4c708cf00c87",
        "colab": {
          "base_uri": "https://localhost:8080/",
          "height": 204
        }
      },
      "source": [
        "dataset = pd.read_csv(\"train.csv\")\n",
        "dataset.head()"
      ],
      "execution_count": 0,
      "outputs": [
        {
          "output_type": "execute_result",
          "data": {
            "text/html": [
              "<div>\n",
              "<style scoped>\n",
              "    .dataframe tbody tr th:only-of-type {\n",
              "        vertical-align: middle;\n",
              "    }\n",
              "\n",
              "    .dataframe tbody tr th {\n",
              "        vertical-align: top;\n",
              "    }\n",
              "\n",
              "    .dataframe thead th {\n",
              "        text-align: right;\n",
              "    }\n",
              "</style>\n",
              "<table border=\"1\" class=\"dataframe\">\n",
              "  <thead>\n",
              "    <tr style=\"text-align: right;\">\n",
              "      <th></th>\n",
              "      <th>x1</th>\n",
              "      <th>x2</th>\n",
              "      <th>x3</th>\n",
              "      <th>x4</th>\n",
              "      <th>x5</th>\n",
              "      <th>x6</th>\n",
              "      <th>x7</th>\n",
              "      <th>x8</th>\n",
              "      <th>y</th>\n",
              "    </tr>\n",
              "  </thead>\n",
              "  <tbody>\n",
              "    <tr>\n",
              "      <th>0</th>\n",
              "      <td>8.0</td>\n",
              "      <td>10.0</td>\n",
              "      <td>1.0</td>\n",
              "      <td>NaN</td>\n",
              "      <td>NaN</td>\n",
              "      <td>NaN</td>\n",
              "      <td>NaN</td>\n",
              "      <td>NaN</td>\n",
              "      <td>NaN</td>\n",
              "    </tr>\n",
              "    <tr>\n",
              "      <th>1</th>\n",
              "      <td>515.0</td>\n",
              "      <td>NaN</td>\n",
              "      <td>NaN</td>\n",
              "      <td>NaN</td>\n",
              "      <td>NaN</td>\n",
              "      <td>NaN</td>\n",
              "      <td>NaN</td>\n",
              "      <td>NaN</td>\n",
              "      <td>NaN</td>\n",
              "    </tr>\n",
              "    <tr>\n",
              "      <th>2</th>\n",
              "      <td>305.3</td>\n",
              "      <td>203.5</td>\n",
              "      <td>0.0</td>\n",
              "      <td>203.5</td>\n",
              "      <td>0.0</td>\n",
              "      <td>965.4</td>\n",
              "      <td>631.0</td>\n",
              "      <td>3.0</td>\n",
              "      <td>14.14</td>\n",
              "    </tr>\n",
              "    <tr>\n",
              "      <th>3</th>\n",
              "      <td>295.7</td>\n",
              "      <td>0.0</td>\n",
              "      <td>95.6</td>\n",
              "      <td>171.5</td>\n",
              "      <td>8.9</td>\n",
              "      <td>955.1</td>\n",
              "      <td>859.2</td>\n",
              "      <td>3.0</td>\n",
              "      <td>22.95</td>\n",
              "    </tr>\n",
              "    <tr>\n",
              "      <th>4</th>\n",
              "      <td>297.2</td>\n",
              "      <td>0.0</td>\n",
              "      <td>117.5</td>\n",
              "      <td>174.8</td>\n",
              "      <td>9.5</td>\n",
              "      <td>1022.8</td>\n",
              "      <td>753.5</td>\n",
              "      <td>56.0</td>\n",
              "      <td>51.96</td>\n",
              "    </tr>\n",
              "  </tbody>\n",
              "</table>\n",
              "</div>"
            ],
            "text/plain": [
              "      x1     x2     x3     x4   x5      x6     x7    x8      y\n",
              "0    8.0   10.0    1.0    NaN  NaN     NaN    NaN   NaN    NaN\n",
              "1  515.0    NaN    NaN    NaN  NaN     NaN    NaN   NaN    NaN\n",
              "2  305.3  203.5    0.0  203.5  0.0   965.4  631.0   3.0  14.14\n",
              "3  295.7    0.0   95.6  171.5  8.9   955.1  859.2   3.0  22.95\n",
              "4  297.2    0.0  117.5  174.8  9.5  1022.8  753.5  56.0  51.96"
            ]
          },
          "metadata": {
            "tags": []
          },
          "execution_count": 2
        }
      ]
    },
    {
      "cell_type": "code",
      "metadata": {
        "id": "3Brgz-sqbvSi",
        "colab_type": "code",
        "outputId": "dd3b2647-c907-4901-f12a-074a78244436",
        "colab": {
          "base_uri": "https://localhost:8080/",
          "height": 34
        }
      },
      "source": [
        "M = int(dataset.iloc[0,0])\n",
        "L = int(dataset.iloc[0,1])\n",
        "N = int(dataset.iloc[0,2])\n",
        "K = int(dataset.iloc[1,0])\n",
        "\n",
        "K"
      ],
      "execution_count": 0,
      "outputs": [
        {
          "output_type": "execute_result",
          "data": {
            "text/plain": [
              "515"
            ]
          },
          "metadata": {
            "tags": []
          },
          "execution_count": 3
        }
      ]
    },
    {
      "cell_type": "code",
      "metadata": {
        "id": "g9-bDO35MWWY",
        "colab_type": "code",
        "colab": {}
      },
      "source": [
        "#removing input size values from dataframe\n",
        "def preprocessing_data(dataset):\n",
        "  dataset = dataset.drop(dataset.index[[0,1]])\n",
        "  dataset.head()\n",
        "\n",
        "  # normalizing the dataset\n",
        "  x = dataset.values #returns a numpy array\n",
        "  min_max_scaler = preprocessing.MinMaxScaler()\n",
        "  x_scaled = min_max_scaler.fit_transform(x)\n",
        "  dataset = pd.DataFrame(x_scaled)\n",
        "\n",
        "  dataset.head()\n",
        "\n",
        "  #splitting X and Y in dataset\n",
        "  X = dataset.iloc[:,:M]\n",
        "  Y = dataset.iloc[:,M:M+N]\n",
        "\n",
        "  X.head()\n",
        "\n",
        "  return X, Y"
      ],
      "execution_count": 0,
      "outputs": []
    },
    {
      "cell_type": "code",
      "metadata": {
        "id": "eaM2zL7qI-KC",
        "colab_type": "code",
        "colab": {}
      },
      "source": [
        "def sigmoid(v):\n",
        "  return 1.0 / (1.0 + exp(-v))\n",
        "\n",
        "sigmoid_v = np.vectorize(sigmoid)\n",
        "\n",
        "def sigmoidDerivative(output):\n",
        "  return output * (1.0 - output)"
      ],
      "execution_count": 0,
      "outputs": []
    },
    {
      "cell_type": "code",
      "metadata": {
        "id": "8t-7vSDZMBiw",
        "colab_type": "code",
        "colab": {}
      },
      "source": [
        "def backProp(hiddenOutput, output, Wl, Wo, learning_rate, row):\n",
        "  Eo = sigmoidDerivative(output) * (Y.iloc[row] - output)\n",
        "  Eo = Eo.values.reshape(N,1)\n",
        "  hiddenOutput = hiddenOutput.reshape(L,1)\n",
        "  Wo_new = Wo + (learning_rate * np.dot(hiddenOutput, Eo))\n",
        "\n",
        "  Eh = sigmoidDerivative(hiddenOutput) * np.dot(Wo, Eo)\n",
        "  z = X.iloc[row]\n",
        "  z = z.values.reshape(M,1)\n",
        "  Wl = Wl + (learning_rate * np.dot(z, Eh.T))\n",
        "\n",
        "  return Wo_new, Wl"
      ],
      "execution_count": 0,
      "outputs": []
    },
    {
      "cell_type": "code",
      "metadata": {
        "id": "F8L-w-_Rl8wq",
        "colab_type": "code",
        "colab": {}
      },
      "source": [
        "def forward_prop(Wl, Wo, row):\n",
        "  hiddenOutput = np.dot(Wl.T, X.iloc[row])\n",
        "  hiddenOutput = sigmoid_v(hiddenOutput)\n",
        "  output = np.dot(Wo.T, hiddenOutput)\n",
        "  output = sigmoid_v(output)\n",
        "  return hiddenOutput, output"
      ],
      "execution_count": 0,
      "outputs": []
    },
    {
      "cell_type": "code",
      "metadata": {
        "id": "gx0Wnp9MDuEr",
        "colab_type": "code",
        "colab": {}
      },
      "source": [
        "X, Y = preprocessing_data(dataset)\n",
        "\n",
        "Wl = 20 * np.random.rand(M,L) - 10 # initializing hidden layer weights\n",
        "Wo = 20 * np.random.rand(L,N) - 10 # initializing output layer weights\n",
        "\n",
        "# print( np.dot(X.iloc[0], Wl).shape )\n",
        "# print(L)\n",
        "learning_rate = 0.01\n",
        "num_iterations = 300\n",
        "output = []\n",
        "\n",
        "for i in range(num_iterations):\n",
        "  for row in range(K):\n",
        "    # feedforward\n",
        "    hiddenOutput, output = forward_prop(Wl, Wo, row)\n",
        "    # back propagation\n",
        "    Wo, Wl = backProp(hiddenOutput, output, Wl, Wo, learning_rate, row)\n",
        "    "
      ],
      "execution_count": 0,
      "outputs": []
    },
    {
      "cell_type": "code",
      "metadata": {
        "id": "mUwKDYwNQ81L",
        "colab_type": "code",
        "colab": {}
      },
      "source": [
        "# mean_squared_error(Y, output)\n",
        "def MSE():\n",
        "  sumE = 0\n",
        "  for row in range(K):\n",
        "    sumE += (Y.iloc[row] - output)**2\n",
        "\n",
        "  MSE = (1/K) * (sumE)\n",
        "  return MSE"
      ],
      "execution_count": 0,
      "outputs": []
    },
    {
      "cell_type": "code",
      "metadata": {
        "id": "wKemNB_5sf2b",
        "colab_type": "code",
        "outputId": "c0b4d109-d133-4bbe-99dc-5bb27080ebee",
        "colab": {
          "base_uri": "https://localhost:8080/",
          "height": 34
        }
      },
      "source": [
        "print(MSE().values)"
      ],
      "execution_count": 0,
      "outputs": [
        {
          "output_type": "stream",
          "text": [
            "[0.37526927]\n"
          ],
          "name": "stdout"
        }
      ]
    },
    {
      "cell_type": "code",
      "metadata": {
        "id": "UWcUJBsthi-V",
        "colab_type": "code",
        "colab": {}
      },
      "source": [
        "# save weights to file\n",
        "\n",
        "np.savetxt('Wl.csv', Wl, delimiter=',')\n",
        "np.savetxt('Wo.csv', Wo, delimiter=',')"
      ],
      "execution_count": 0,
      "outputs": []
    },
    {
      "cell_type": "code",
      "metadata": {
        "id": "nlYcH2SqkzD1",
        "colab_type": "code",
        "colab": {}
      },
      "source": [
        "#==================================================================================\n",
        "#==================================================================================\n",
        "#==================================================================================\n",
        "#==================================================================================\n",
        "#=================================================================================="
      ],
      "execution_count": 0,
      "outputs": []
    },
    {
      "cell_type": "code",
      "metadata": {
        "id": "vnd0B67suhKE",
        "colab_type": "code",
        "colab": {}
      },
      "source": [
        "dataset = pd.read_csv(\"train.csv\")\n",
        "dataset.head()\n",
        "\n",
        "M = int(dataset.iloc[0,0])\n",
        "L = int(dataset.iloc[0,1])\n",
        "N = int(dataset.iloc[0,2])\n",
        "K = int(dataset.iloc[1,0])\n",
        "\n",
        "X, Y = preprocessing_data(dataset)\n",
        "\n",
        "Wl_n = np.genfromtxt('Wl.csv', delimiter=',')\n",
        "Wo_n = np.genfromtxt('Wo.csv', delimiter=',')\n",
        "\n",
        "for row in range(K):\n",
        "  hiddenOutput, output = forward_prop(Wl, Wo, row)"
      ],
      "execution_count": 0,
      "outputs": []
    },
    {
      "cell_type": "code",
      "metadata": {
        "id": "6fuH-7D3067X",
        "colab_type": "code",
        "outputId": "1d6fe577-a850-4958-98c1-480cb740ccb7",
        "colab": {
          "base_uri": "https://localhost:8080/",
          "height": 34
        }
      },
      "source": [
        "print(MSE().values)"
      ],
      "execution_count": 0,
      "outputs": [
        {
          "output_type": "stream",
          "text": [
            "[0.37526927]\n"
          ],
          "name": "stdout"
        }
      ]
    },
    {
      "cell_type": "code",
      "metadata": {
        "id": "SaHlqXAn2KWC",
        "colab_type": "code",
        "colab": {}
      },
      "source": [
        ""
      ],
      "execution_count": 0,
      "outputs": []
    }
  ]
}