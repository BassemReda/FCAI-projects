{
  "nbformat": 4,
  "nbformat_minor": 0,
  "metadata": {
    "colab": {
      "name": "KNN.ipynb",
      "provenance": []
    },
    "kernelspec": {
      "name": "python3",
      "display_name": "Python 3"
    }
  },
  "cells": [
    {
      "cell_type": "code",
      "metadata": {
        "id": "OKrcV9dmdqBD",
        "colab_type": "code",
        "colab": {}
      },
      "source": [
        "# A simple K-Nearest-Neighbours algorithm implementation"
      ],
      "execution_count": 0,
      "outputs": []
    },
    {
      "cell_type": "code",
      "metadata": {
        "id": "zZbxHtNzsnvR",
        "colab_type": "code",
        "colab": {}
      },
      "source": [
        "import pandas as pd\n",
        "# from sklearn import preprocessing\n",
        "import matplotlib.pyplot as plt\n",
        "from math import sqrt"
      ],
      "execution_count": 0,
      "outputs": []
    },
    {
      "cell_type": "code",
      "metadata": {
        "id": "AeKB7W2ion3g",
        "colab_type": "code",
        "colab": {}
      },
      "source": [
        "def euclidean_distance(row1, row2):\n",
        "\tdistance = 0.0\n",
        "\tfor i in range(len(row1)-1):\n",
        "\t\tdistance += (row1[i] - row2[i])**2\n",
        "\treturn sqrt(distance)"
      ],
      "execution_count": 0,
      "outputs": []
    },
    {
      "cell_type": "code",
      "metadata": {
        "id": "x39pXZdAo5GS",
        "colab_type": "code",
        "colab": {}
      },
      "source": [
        "def get_neighbors(train, test_row, num_neighbors):\n",
        "\tdistances = list()\n",
        "\tfor train_row in train:\n",
        "    # distance between test node, train node\n",
        "\t\tdist = euclidean_distance(test_row, train_row)\n",
        "    # add train node with its distance\n",
        "\t\tdistances.append((train_row, dist))\n",
        "  # sort by distance\n",
        "\tdistances.sort(key=lambda tup: tup[1])\n",
        "\tneighbors = list()\n",
        "\tfor i in range(num_neighbors):\n",
        "    # append nearest train rows i.e (train nodes)\n",
        "\t\tneighbors.append(distances[i][0])\n",
        "\treturn neighbors"
      ],
      "execution_count": 0,
      "outputs": []
    },
    {
      "cell_type": "code",
      "metadata": {
        "id": "Vr0aMP5IsCfi",
        "colab_type": "code",
        "colab": {}
      },
      "source": [
        "# Make a classification prediction with neighbors\n",
        "def predict_classification(train, test_row, num_neighbors):\n",
        "\tneighbors = get_neighbors(train, test_row, num_neighbors)\n",
        "\toutput_values = [row[-1] for row in neighbors]\n",
        "\tprediction = max(set(output_values), key=output_values.count)\n",
        "\treturn prediction"
      ],
      "execution_count": 0,
      "outputs": []
    },
    {
      "cell_type": "code",
      "metadata": {
        "id": "Zn5wN-ensQ2F",
        "colab_type": "code",
        "outputId": "dc045188-a5e1-4e83-86d3-78ddbbfe5c6f",
        "colab": {
          "base_uri": "https://localhost:8080/",
          "height": 34
        }
      },
      "source": [
        "# read dataset\n",
        "testset = pd.read_csv(\"testset.csv\") \n",
        "testset.values[0]"
      ],
      "execution_count": 0,
      "outputs": [
        {
          "output_type": "execute_result",
          "data": {
            "text/plain": [
              "array([0.51, 0.4, 0.56, 0.17, 0.5, 0.5, 0.49, 0.22, 'CYT'], dtype=object)"
            ]
          },
          "metadata": {
            "tags": []
          },
          "execution_count": 10
        }
      ]
    },
    {
      "cell_type": "code",
      "metadata": {
        "id": "fLq7vlCHs3Ii",
        "colab_type": "code",
        "colab": {}
      },
      "source": [
        "# read dataset\n",
        "trainset = pd.read_csv(\"trainset.csv\") "
      ],
      "execution_count": 0,
      "outputs": []
    },
    {
      "cell_type": "code",
      "metadata": {
        "id": "yg_Ae728ualU",
        "colab_type": "code",
        "colab": {}
      },
      "source": [
        "def predict_with_K(k):\n",
        "  co = 0\n",
        "  print(\"K: \" + str(k))\n",
        "  for row in testset.values:\n",
        "    predicted = predict_classification(trainset.values, row, k)\n",
        "    # print(\"Actual class: \" + row[-1] + \", Predicted class: \" + predicted)\n",
        "    if (row[-1] == predicted):\n",
        "      co = co + 1\n",
        "  print(\"Number of correctly classified instances : \" + str(co) + \", Total number of instances : 445\")\n",
        "  print(\"Accuracy: \" + str(co/445))"
      ],
      "execution_count": 0,
      "outputs": []
    },
    {
      "cell_type": "code",
      "metadata": {
        "id": "4bFcMeoZ3hpy",
        "colab_type": "code",
        "outputId": "c21d618f-f0ac-44ac-8721-36db11232d66",
        "colab": {
          "base_uri": "https://localhost:8080/",
          "height": 629
        }
      },
      "source": [
        "for k in range (1,10):\n",
        "  predict_with_K(k)\n",
        "  print(\"============================================================================================================\")"
      ],
      "execution_count": 0,
      "outputs": [
        {
          "output_type": "stream",
          "text": [
            "K: 1\n",
            "Number of correctly classified instances : 215, Total number of instances : 445\n",
            "Accuracy: 0.48314606741573035\n",
            "============================================================================================================\n",
            "K: 2\n",
            "Number of correctly classified instances : 219, Total number of instances : 445\n",
            "Accuracy: 0.49213483146067416\n",
            "============================================================================================================\n",
            "K: 3\n",
            "Number of correctly classified instances : 237, Total number of instances : 445\n",
            "Accuracy: 0.5325842696629214\n",
            "============================================================================================================\n",
            "K: 4\n",
            "Number of correctly classified instances : 247, Total number of instances : 445\n",
            "Accuracy: 0.5550561797752809\n",
            "============================================================================================================\n",
            "K: 5\n",
            "Number of correctly classified instances : 243, Total number of instances : 445\n",
            "Accuracy: 0.5460674157303371\n",
            "============================================================================================================\n",
            "K: 6\n",
            "Number of correctly classified instances : 242, Total number of instances : 445\n",
            "Accuracy: 0.5438202247191011\n",
            "============================================================================================================\n",
            "K: 7\n",
            "Number of correctly classified instances : 241, Total number of instances : 445\n",
            "Accuracy: 0.5415730337078651\n",
            "============================================================================================================\n",
            "K: 8\n",
            "Number of correctly classified instances : 241, Total number of instances : 445\n",
            "Accuracy: 0.5415730337078651\n",
            "============================================================================================================\n",
            "K: 9\n",
            "Number of correctly classified instances : 242, Total number of instances : 445\n",
            "Accuracy: 0.5438202247191011\n",
            "============================================================================================================\n"
          ],
          "name": "stdout"
        }
      ]
    },
    {
      "cell_type": "code",
      "metadata": {
        "id": "YJytsMwZ3t41",
        "colab_type": "code",
        "colab": {}
      },
      "source": [
        ""
      ],
      "execution_count": 0,
      "outputs": []
    }
  ]
}